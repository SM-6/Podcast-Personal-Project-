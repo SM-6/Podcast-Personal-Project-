{
 "cells": [
  {
   "cell_type": "code",
   "execution_count": 2,
   "id": "9bc99f29",
   "metadata": {},
   "outputs": [],
   "source": [
    "import requests\n",
    "from bs4 import BeautifulSoup"
   ]
  },
  {
   "cell_type": "code",
   "execution_count": 3,
   "id": "bee08bd3",
   "metadata": {},
   "outputs": [
    {
     "name": "stdout",
     "output_type": "stream",
     "text": [
      "Requirement already satisfied: lxml in /Users/ShehryarMughal/.pyenv/versions/3.10.4/lib/python3.10/site-packages (4.9.2)\r\n"
     ]
    }
   ],
   "source": [
    "!pip install lxml"
   ]
  },
  {
   "cell_type": "code",
   "execution_count": 4,
   "id": "9852dd41",
   "metadata": {},
   "outputs": [],
   "source": [
    "rss_feed_url = \"https://feeds.transistor.fm/deep-dive-with-ali-abdaal\"\n",
    "\n",
    "page = requests.get(rss_feed_url)\n",
    "soup = BeautifulSoup(page.content, 'xml')"
   ]
  },
  {
   "cell_type": "code",
   "execution_count": 8,
   "id": "aecab24c",
   "metadata": {},
   "outputs": [],
   "source": [
    "podcast_items = soup.find_all('item')"
   ]
  },
  {
   "cell_type": "code",
   "execution_count": 17,
   "id": "1fc16514",
   "metadata": {},
   "outputs": [],
   "source": [
    "mp3_url = podcast_items[0].find('enclosure')[\"url\"]"
   ]
  },
  {
   "cell_type": "code",
   "execution_count": 19,
   "id": "6f0dcdbf",
   "metadata": {},
   "outputs": [],
   "source": [
    "mp3_file = requests.get(mp3_url)\n",
    "with open('myfile.mp3', 'wb') as f:\n",
    "    f.write(mp3_file.content)"
   ]
  },
  {
   "cell_type": "code",
   "execution_count": null,
   "id": "5ac921e4",
   "metadata": {},
   "outputs": [],
   "source": []
  }
 ],
 "metadata": {
  "kernelspec": {
   "display_name": "Python 3 (ipykernel)",
   "language": "python",
   "name": "python3"
  },
  "language_info": {
   "codemirror_mode": {
    "name": "ipython",
    "version": 3
   },
   "file_extension": ".py",
   "mimetype": "text/x-python",
   "name": "python",
   "nbconvert_exporter": "python",
   "pygments_lexer": "ipython3",
   "version": "3.10.4"
  }
 },
 "nbformat": 4,
 "nbformat_minor": 5
}
