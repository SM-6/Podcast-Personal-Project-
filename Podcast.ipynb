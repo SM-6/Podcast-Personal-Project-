{
 "cells": [
  {
   "cell_type": "code",
   "execution_count": 6,
   "id": "9bc99f29",
   "metadata": {},
   "outputs": [],
   "source": [
    "import requests\n",
    "from bs4 import BeautifulSoup\n",
    "import re"
   ]
  },
  {
   "cell_type": "code",
   "execution_count": 2,
   "id": "9852dd41",
   "metadata": {},
   "outputs": [],
   "source": [
    "rss_feed_url = \"https://feeds.transistor.fm/deep-dive-with-ali-abdaal\"\n",
    "\n",
    "page = requests.get(rss_feed_url)\n",
    "soup = BeautifulSoup(page.content, 'xml')"
   ]
  },
  {
   "cell_type": "code",
   "execution_count": 3,
   "id": "aecab24c",
   "metadata": {},
   "outputs": [],
   "source": [
    "podcast_items = soup.find_all('item')"
   ]
  },
  {
   "cell_type": "code",
   "execution_count": 10,
   "id": "52c256ff",
   "metadata": {},
   "outputs": [
    {
     "name": "stdout",
     "output_type": "stream",
     "text": [
      "REPLAY: Derek Sivers On Life Advice, Writing and Entrepreneurship (BONUS EPISODE) \n",
      "7 Lessons I'm Taking Into 2023 - Season 4 Wrapped\n",
      "Snippet 17: How To Set Better Goals for 2023 - Oliver Burkeman \n",
      "The Secret To Attracting True Love That Lasts - Dating Expert Matthew Hussey \n",
      "Snippet 16: How to Understand the Science of Social Status: Will Storr\n",
      "The World’s First Sleep Fitness Company Founders On Optimising Your Sleep -  Eight Sleep \n",
      "Snippet 15: How To Start A Side Hustle (Patricia Bright)\n",
      "The Pathless Path: How To Recreate Your Life And Career In 2023 - Paul Millerd \n",
      "Snippet 14: Imposter Syndrome: You’ll Never Be Qualified Enough - Rupy Aujla\n",
      "How To Find Tranquility, Meaningful Productivity and Healthy Relationships - Lana Blakely  \n",
      "Snippet 13: How To Figure Out What To Do With Your Life - Brandon Sanderson\n",
      "How Anyone Can Develop The Mindset Of A Multi-Million Dollar Entrepreneur - Daniel Priestley\n",
      "Snippet 12: How To Organise Your Week - Productivity Hacks from Dr Grace Lordan\n",
      "Alonement: How To Be Alone And Happy - Francesca Specter\n",
      "Snippet 11: Listen To This Before You Quit Your Job - James Hoffmann \n",
      "From Council Estate To Selling A Global Business For Millions At 27 - Timothy Armoo Founder of Fanbytes\n",
      "Snippet 10: Advice Every Student Needs To Hear - Noah Kagan\n",
      "Caspar Lee: How He Built A 10+ Million YouTube Following In His 20s (And Why He Quit)\n",
      "Snippet 9: Why True Love Doesn't Exist - Hannah Witton \n",
      "Change Your Brain: The Power Of Neuroplasticity And Braincare - Dr Tara Swart \n",
      "Snippet 8: Advice for Aspiring YouTubers - Kharma Medic\n",
      "Alex Hormozi: How He Built A $150 Million Empire And His Best Business Advice\n",
      "Snippet 7: How To Permanently Boost Your Motivation - Bobby Seagull\n",
      "The Science Of Body Clocks: How It Can Revolutionize Your Sleep And Health - Prof Russell Foster \n",
      "Snippet 6: The Simple Way To Achieve Your Goals - Hasan Kubba\n",
      "The Highs And Lows Of Being A Viral Sensation - Max Fosh \n",
      "Lessons in Happiness, Side Hustles, Self-Care, Productivity, Luck and Business - Season 3 Round Up \n",
      "MKBHD: The Story To 16 Million & The World Of YouTube \n",
      "World Poker Champion On The Science Of Decision Making - Chris Sparks \n",
      "World's Leading Expert On How To Solve Procrastination - Dr Tim Pychyl\n",
      "How To Build A Multi-Million Dollar Empire In Your 20s - Grace Beverley\n",
      "Moral Philosopher Will MacAskill on What We Owe The Future\n",
      "How I Grew from 0 to 500k Followers In Under 2 Years - Sahil Bloom \n",
      "Snippet 5 - How To Avoid Burnout As An Entrepreneur: James Hoffmann\n",
      "How To Design Your Career For Happiness - Samantha Clarke \n",
      "Snippet 4 - How To Design Your Future Career: Dr Grace Lordan \n",
      "The Sure-Fire Way To Be Luckier In Life - Advice From Psychology Professor Richard Wiseman\n",
      "Snippet 3 - How To Be Better At Long-Term Relationships: Logan Ury \n",
      "Lessons From Selling Morning Brew For $75 Million At 28 - Alex Lieberman\n",
      "Snippet 2 - How To Be More Likeable At Work: Will Storr \n",
      "Confronting my Productivity Guru - Tiago Forte\n",
      "Snippet 1 - Advice Every 20-Something Year Old Needs To Hear \n",
      "How to Become a Digital Nomad - Lauren Razavi\n",
      "The Happiness Expert Making 1 Billion People Happier - Mo Gawdat\n",
      "Health, Wealth, Love, Happiness & Impact - Q&A with Ali\n",
      "Bonus Episode: How To Build Career Momentum with Noah Kagan\n",
      "Bonus Episode: Originality, Writing and Career Fulfilment with Brandon Sanderson \n",
      "Life Update: Building My Business And Writing My New Book\n",
      "6 Lessons That Improved My Life - Season 2 Round Up\n",
      "Patricia Bright: How She Built A Million Dollar Empire\n",
      "How To Embrace Vulnerability, Imposter Syndrome and Self-Doubt - Rupy Aujla, The Doctors Kitchen\n",
      "How To Find Meaning In A Digital World - Kharma Medic \n",
      "How To Turn Your Passion Into A Business Without Sacrifice - James Hoffmann\n",
      "How To Break Through Limitations - Bobby Seagull On Council Estate To Celebrity Mastermind\n",
      "How and Why We Play Social Status Games - Will Storr \n",
      "How I Built a $72,000,000 Business In 5 Years - Julian Hearn Founder Of Huel \n",
      "Why You’ve Been Breathing Wrong Most Of Your Life - Breathing Expert Mike Maher\n",
      "How to Not Die Alone - A Dating Experts Guide\n",
      "How To Think Like A Life Coach - Hasan Kubba\n",
      "Sex, Relationships and Everything in Between - Hannah Witton\n",
      "How Productivity Ruins Your Life with Productivity Expert Oliver Burkeman\n",
      "A Psychologists Guide To A Meaningful Life with Dr Julie Smith \n",
      "Deep Dive with Ali Abdaal Trailer\n",
      "Lessons I’m Taking Into 2022 - Season 1 Roundup \n",
      "How To Find Your Purpose in Life - Vee Kativhu\n",
      "How To Build A 10 Million Following - Mrwhosetheboss\n",
      "Why You Shouldn't Be Afraid To Quit - Natacha Océane\n",
      "How To Embrace Your Weirdness - Chris Williamson\n",
      "Krissy Cela On Finding Your Vision, Mission and Why \n",
      "How To Bootstrap £500 into £350 Million - Oliver Cookson Founder of Myprotein \n",
      "How To Build The Career You Want - Professor Of Behavioural Science Dr Grace Lordan \n",
      "How To Optimise Your Brain Health | Dan Murray-Serter \n",
      "$600,000 Tumblr Themes, Dropshipping & Beating Cancer | Oliur\n",
      "How To Build A Multi-Million $ Dating App | Shahzad Younas Founder & CEO of Muzmatch\n",
      "E2 The Real Meaning Of Productivity | Unjaded Jade \n",
      "E1 Delivering Pizzas to Managing a Billion Dollar Business | Ben Francis Gymshark CEO\n"
     ]
    }
   ],
   "source": [
    "for podcast in podcast_items:\n",
    "    \n",
    "    title = podcast.find('title').text\n",
    "    description = podcast.find('description').text\n",
    "    mp3_url = podcast_items[0].find('enclosure')[\"url\"]\n",
    "    \n",
    "    print(title)\n",
    "    "
   ]
  },
  {
   "cell_type": "code",
   "execution_count": null,
   "id": "1fc16514",
   "metadata": {},
   "outputs": [],
   "source": [
    "\n"
   ]
  },
  {
   "cell_type": "code",
   "execution_count": null,
   "id": "6f0dcdbf",
   "metadata": {},
   "outputs": [],
   "source": []
  },
  {
   "cell_type": "code",
   "execution_count": null,
   "id": "5ac921e4",
   "metadata": {},
   "outputs": [],
   "source": []
  },
  {
   "cell_type": "code",
   "execution_count": null,
   "id": "3a1e1828",
   "metadata": {},
   "outputs": [],
   "source": []
  }
 ],
 "metadata": {
  "kernelspec": {
   "display_name": "Python 3 (ipykernel)",
   "language": "python",
   "name": "python3"
  },
  "language_info": {
   "codemirror_mode": {
    "name": "ipython",
    "version": 3
   },
   "file_extension": ".py",
   "mimetype": "text/x-python",
   "name": "python",
   "nbconvert_exporter": "python",
   "pygments_lexer": "ipython3",
   "version": "3.10.4"
  }
 },
 "nbformat": 4,
 "nbformat_minor": 5
}
